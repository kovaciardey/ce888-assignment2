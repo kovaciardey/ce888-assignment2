{
 "nbformat": 4,
 "nbformat_minor": 0,
 "metadata": {
  "colab": {
   "name": "data_splitting.ipynb",
   "provenance": [],
   "collapsed_sections": [],
   "authorship_tag": "ABX9TyNz6vY3obZ2nS+p86fRs9yz",
   "include_colab_link": true
  },
  "kernelspec": {
   "name": "python3",
   "language": "python",
   "display_name": "Python 3"
  }
 },
 "cells": [
  {
   "cell_type": "markdown",
   "metadata": {
    "id": "view-in-github",
    "colab_type": "text"
   },
   "source": [
    "<a href=\"https://colab.research.google.com/github/kovaciardey/ce888-assignment/blob/main/data_splitting.ipynb\" target=\"_parent\"><img src=\"https://colab.research.google.com/assets/colab-badge.svg\" alt=\"Open In Colab\"/></a>"
   ]
  },
  {
   "cell_type": "markdown",
   "metadata": {
    "id": "A99fApuObuwS"
   },
   "source": [
    "# Data Splitting\r\n",
    "\r\n",
    "The code used to split the data into the training and test sets."
   ]
  },
  {
   "cell_type": "code",
   "metadata": {
    "id": "R2_32LQuaon_"
   },
   "source": [
    "from os import listdir\r\n",
    "from random import random\r\n",
    "\r\n",
    "from numpy import asarray\r\n",
    "from numpy import save\r\n",
    "\r\n",
    "from keras.preprocessing.image import load_img\r\n",
    "from keras.preprocessing.image import img_to_array"
   ],
   "execution_count": null,
   "outputs": []
  },
  {
   "cell_type": "code",
   "metadata": {
    "id": "uyUHeHlEae1g"
   },
   "source": [
    "# location of the images\r\n",
    "training_fire_folder = \"data/Training/Training/Fire/\"\r\n",
    "training_no_fire_folder = \"data/Training/Training/No_Fire/\"\r\n",
    "\r\n",
    "test_fire_folder = \"data/Test/Test/Fire/\"\r\n",
    "test_no_fire_folder = \"data/Test/Test/No_Fire/\"\r\n",
    "\r\n",
    "# show image sizes\r\n",
    "print(\"Training Images Fire class: \" + str(len(listdir(training_fire_folder))))\r\n",
    "print(\"Training Images No Fire class: \" + str(len(listdir(training_no_fire_folder))))\r\n",
    "\r\n",
    "print(\"Test Images Fire class: \" + str(len(listdir(test_fire_folder))))\r\n",
    "print(\"Test Images No Fire class: \" + str(len(listdir(test_no_fire_folder))))"
   ],
   "execution_count": 2,
   "outputs": [
    {
     "ename": "NameError",
     "evalue": "name 'listdir' is not defined",
     "output_type": "error",
     "traceback": [
      "\u001B[1;31m---------------------------------------------------------------------------\u001B[0m",
      "\u001B[1;31mNameError\u001B[0m                                 Traceback (most recent call last)",
      "\u001B[1;32m<ipython-input-2-f53a39682cbf>\u001B[0m in \u001B[0;36m<module>\u001B[1;34m\u001B[0m\n\u001B[0;32m      7\u001B[0m \u001B[1;33m\u001B[0m\u001B[0m\n\u001B[0;32m      8\u001B[0m \u001B[1;31m# show image sizes\u001B[0m\u001B[1;33m\u001B[0m\u001B[1;33m\u001B[0m\u001B[1;33m\u001B[0m\u001B[0m\n\u001B[1;32m----> 9\u001B[1;33m \u001B[0mprint\u001B[0m\u001B[1;33m(\u001B[0m\u001B[1;34m\"Training Images Fire class: \"\u001B[0m \u001B[1;33m+\u001B[0m \u001B[0mstr\u001B[0m\u001B[1;33m(\u001B[0m\u001B[0mlen\u001B[0m\u001B[1;33m(\u001B[0m\u001B[0mlistdir\u001B[0m\u001B[1;33m(\u001B[0m\u001B[0mtraining_fire_folder\u001B[0m\u001B[1;33m)\u001B[0m\u001B[1;33m)\u001B[0m\u001B[1;33m)\u001B[0m\u001B[1;33m)\u001B[0m\u001B[1;33m\u001B[0m\u001B[1;33m\u001B[0m\u001B[0m\n\u001B[0m\u001B[0;32m     10\u001B[0m \u001B[0mprint\u001B[0m\u001B[1;33m(\u001B[0m\u001B[1;34m\"Training Images No Fire class: \"\u001B[0m \u001B[1;33m+\u001B[0m \u001B[0mstr\u001B[0m\u001B[1;33m(\u001B[0m\u001B[0mlen\u001B[0m\u001B[1;33m(\u001B[0m\u001B[0mlistdir\u001B[0m\u001B[1;33m(\u001B[0m\u001B[0mtraining_no_fire_folder\u001B[0m\u001B[1;33m)\u001B[0m\u001B[1;33m)\u001B[0m\u001B[1;33m)\u001B[0m\u001B[1;33m)\u001B[0m\u001B[1;33m\u001B[0m\u001B[1;33m\u001B[0m\u001B[0m\n\u001B[0;32m     11\u001B[0m \u001B[1;33m\u001B[0m\u001B[0m\n",
      "\u001B[1;31mNameError\u001B[0m: name 'listdir' is not defined"
     ]
    }
   ]
  },
  {
   "cell_type": "code",
   "metadata": {
    "id": "l4sCZJT7asI8"
   },
   "source": [
    "# set the size of the training and the test dataset\r\n",
    "\r\n",
    "size = 4000\r\n",
    "test_size = 2000\r\n",
    "\r\n",
    "fire_class = 1\r\n",
    "no_fire_class = 0\r\n",
    "\r\n",
    "photos, labels = list(), list()\r\n",
    "\r\n",
    "test_photos, test_labels = list(), list()\r\n",
    "\r\n",
    "fire_images_ratio = 0.5"
   ],
   "execution_count": null,
   "outputs": []
  },
  {
   "cell_type": "code",
   "metadata": {
    "id": "kCR4I3Kza1sW"
   },
   "source": [
    "# this function loads the image into memory. it will randomly select images from 2 folders that need to be specified. \r\n",
    "\r\n",
    "def load_randomly(data_size, image_set, label_set, src_folders):\r\n",
    "    fire_count, no_fire_count = 0, 0\r\n",
    "\r\n",
    "    for i in range(data_size):\r\n",
    "        if random() < fire_images_ratio:\r\n",
    "            file = listdir(src_folders[0])[fire_count]\r\n",
    "\r\n",
    "            photo = load_img(src_folders[0] + file, target_size=(254, 254))\r\n",
    "            photo = img_to_array(photo)\r\n",
    "\r\n",
    "            image_set.append(photo)\r\n",
    "            label_set.append([fire_class])\r\n",
    "\r\n",
    "            fire_count += 1\r\n",
    "        else:\r\n",
    "            file = listdir(src_folders[1])[no_fire_count]\r\n",
    "\r\n",
    "            photo = load_img(src_folders[1] + file, target_size=(254, 254))\r\n",
    "            photo = img_to_array(photo)\r\n",
    "\r\n",
    "            image_set.append(photo)\r\n",
    "            label_set.append([no_fire_class])\r\n",
    "\r\n",
    "            no_fire_count += 1\r\n",
    "\r\n",
    "    return fire_count, no_fire_count"
   ],
   "execution_count": null,
   "outputs": []
  },
  {
   "cell_type": "code",
   "metadata": {
    "id": "fYuFkxkkbMZ7"
   },
   "source": [
    "# creating the numpy arrays \r\n",
    "\r\n",
    "training_fire_count, training_no_fire_count = load_randomly(size, photos, labels, [training_fire_folder, training_no_fire_folder])\r\n",
    "test_fire_count, test_no_fire_count = load_randomly(test_size, test_photos, test_labels, [test_fire_folder, test_no_fire_folder])\r\n",
    "\r\n",
    "print(\"The training dataset has\", training_fire_count, \"images belonging to class FIRE and\", training_no_fire_count, \"belonging to NO_FIRE\")\r\n",
    "print(\"The test dataset has\", test_fire_count, \"images belonging to class FIRE and\", test_no_fire_count, \"belonging to NO_FIRE\")\r\n",
    "\r\n",
    "photos = asarray(photos).astype('uint8')\r\n",
    "labels = asarray(labels).astype('uint8')\r\n",
    "test_photos = asarray(test_photos).astype('uint8')\r\n",
    "test_labels = asarray(test_labels).astype('uint8')\r\n",
    "\r\n",
    "print(photos.shape)\r\n",
    "print(labels.shape)\r\n",
    "print(test_photos.shape)\r\n",
    "print(test_labels.shape)"
   ],
   "execution_count": null,
   "outputs": []
  },
  {
   "cell_type": "code",
   "metadata": {
    "id": "XarjIDgYbWd1"
   },
   "source": [
    "# save each array to a file to facilitate the loading of the data.\r\n",
    "save('training_flame_photos.npy', photos)\r\n",
    "save('training_flame_labels.npy', labels)\r\n",
    "save('test_flame_photos.npy', test_photos)\r\n",
    "save('test_flame_labels.npy', test_labels)"
   ],
   "execution_count": null,
   "outputs": []
  }
 ]
}